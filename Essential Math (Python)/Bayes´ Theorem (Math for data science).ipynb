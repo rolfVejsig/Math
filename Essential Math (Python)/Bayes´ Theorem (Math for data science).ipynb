{
 "cells": [
  {
   "cell_type": "code",
   "execution_count": 6,
   "id": "f44d0825",
   "metadata": {},
   "outputs": [],
   "source": [
    "#let’s say that we have two assembly lines\n",
    "#3% of the parts produced on line 1 are defective, \n",
    "#while 1% of the parts produced on line 2 are defective. \n",
    "#Given a defective part, \n",
    "#what is the probability that it came from line 1\n",
    "# if both lines produce 50% each\n",
    "\n",
    "from fractions import Fraction\n",
    "def bayesTheorem(pBA, pA, pB,):\n",
    "    return Fraction(pBA* pA / pB)"
   ]
  },
  {
   "cell_type": "code",
   "execution_count": 11,
   "id": "13daf3d6",
   "metadata": {},
   "outputs": [
    {
     "name": "stdout",
     "output_type": "stream",
     "text": [
      "3/4\n"
     ]
    }
   ],
   "source": [
    "pBA = 3/100\n",
    "pA = 1/2\n",
    "pB = ((1/2)*(3/100))+((1/2)*(1/100)) \n",
    "Example_1 = bayesTheorem(pBA,pA,pB)\n",
    "print(Example_1)"
   ]
  },
  {
   "cell_type": "code",
   "execution_count": null,
   "id": "d6d64ad2",
   "metadata": {},
   "outputs": [],
   "source": []
  }
 ],
 "metadata": {
  "kernelspec": {
   "display_name": "Python 3 (ipykernel)",
   "language": "python",
   "name": "python3"
  },
  "language_info": {
   "codemirror_mode": {
    "name": "ipython",
    "version": 3
   },
   "file_extension": ".py",
   "mimetype": "text/x-python",
   "name": "python",
   "nbconvert_exporter": "python",
   "pygments_lexer": "ipython3",
   "version": "3.9.12"
  }
 },
 "nbformat": 4,
 "nbformat_minor": 5
}
