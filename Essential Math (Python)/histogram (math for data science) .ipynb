{
 "cells": [
  {
   "cell_type": "code",
   "execution_count": 4,
   "id": "b76349a9",
   "metadata": {},
   "outputs": [],
   "source": [
    "import numpy as np\n",
    "import matplotlib.pyplot as plt"
   ]
  },
  {
   "cell_type": "code",
   "execution_count": 12,
   "id": "e20e5392",
   "metadata": {},
   "outputs": [
    {
     "data": {
      "text/plain": [
       "array([ -8.20483228,  -0.81150903,  10.80250503,   5.91108807,\n",
       "        10.27680891,  11.25228921,   0.39137263,  -3.42987106,\n",
       "         4.33442264,   3.32503027,  -3.07694582, -11.44302996,\n",
       "        13.88565728,   5.51110736,   7.4204905 , -19.53877252,\n",
       "        -1.80397469,  -6.69259325,   4.37133032, -14.85397641,\n",
       "        11.21025121,  -2.53385597,  -8.59520034,  -9.71591666,\n",
       "       -15.89569639,  -7.17582321,  -2.91685829, -12.59641129,\n",
       "        13.77490661,  -2.97477896,  16.17679535,  -1.78065833,\n",
       "        10.5985048 ,   3.38619407,  -2.26890272,  14.68146055,\n",
       "        -4.55873256,   3.70257938,  -2.09007269,   3.9010123 ,\n",
       "        -0.59093242,  -1.49490295,  -9.70529683, -18.28226445,\n",
       "         3.41802884, -18.59610808,   3.22118993,  -5.00414625,\n",
       "        12.27551601, -16.16050157, -19.3641342 ,   1.90425349,\n",
       "        -0.77176007,  -7.71183706,   4.14259349, -16.45365701,\n",
       "        12.03520101,  -9.42071423,   1.98546393,   1.56447367,\n",
       "        12.94323803,   6.43076811,  -6.89956213,  -4.59358049,\n",
       "         6.66493328,   6.15137667,   6.64060797,   8.58294424,\n",
       "         7.2958887 ,  -5.76394078,  20.17270081,  -5.47916898,\n",
       "         3.07370798,  -1.87084749,  10.26818624,  -6.38365438,\n",
       "        28.1595459 ,  -3.81499464,   0.1429466 ,  -3.41725074,\n",
       "       -10.46594225,   9.40104701,  -4.25267675,   0.61338237,\n",
       "        -9.2175377 ,  -3.69057162,   5.15945026,  -4.21374052,\n",
       "         4.5738685 ,  12.66939857,   5.9787273 , -21.56263382,\n",
       "        -7.86339148,  -0.45195518,   2.50645085,   3.44603726,\n",
       "         3.16256115,   7.76254405,   8.06237621,   2.56514254])"
      ]
     },
     "execution_count": 12,
     "metadata": {},
     "output_type": "execute_result"
    }
   ],
   "source": [
    "#random.normal(loc,scale,size)\n",
    "x = np.random.normal(0,10,100)\n",
    "x"
   ]
  },
  {
   "cell_type": "code",
   "execution_count": 13,
   "id": "2c0539fb",
   "metadata": {},
   "outputs": [
    {
     "data": {
      "image/png": "[encoded data removed]",
      "text/plain": [
       "<Figure size 432x288 with 1 Axes>"
      ]
     },
     "metadata": {
      "needs_background": "light"
     },
     "output_type": "display_data"
    }
   ],
   "source": [
    "plt.hist(x)\n",
    "plt.show()"
   ]
  },
  {
   "cell_type": "code",
   "execution_count": null,
   "id": "12d2790a",
   "metadata": {},
   "outputs": [],
   "source": []
  }
 ],
 "metadata": {
  "kernelspec": {
   "display_name": "Python 3 (ipykernel)",
   "language": "python",
   "name": "python3"
  },
  "language_info": {
   "codemirror_mode": {
    "name": "ipython",
    "version": 3
   },
   "file_extension": ".py",
   "mimetype": "text/x-python",
   "name": "python",
   "nbconvert_exporter": "python",
   "pygments_lexer": "ipython3",
   "version": "3.9.12"
  }
 },
 "nbformat": 4,
 "nbformat_minor": 5
}
