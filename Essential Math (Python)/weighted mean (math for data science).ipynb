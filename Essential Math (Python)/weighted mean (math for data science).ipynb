{
 "cells": [
  {
   "cell_type": "code",
   "execution_count": 31,
   "id": "62b127d7",
   "metadata": {},
   "outputs": [],
   "source": [
    "import pandas as pd\n",
    "import numpy as np"
   ]
  },
  {
   "cell_type": "code",
   "execution_count": 19,
   "id": "1f2a1e2c",
   "metadata": {},
   "outputs": [
    {
     "name": "stdout",
     "output_type": "stream",
     "text": [
      "   dept. size  mean sat.\n",
      "0          20        8.4\n",
      "1           7        6.1\n",
      "2          13        9.1\n",
      "3          25        7.8\n"
     ]
    }
   ],
   "source": [
    "df = pd.DataFrame(\n",
    "    {\n",
    "    'dept. size': [20,7,13,25],\n",
    "    'mean sat.': [8.4,6.1,9.1,7.8]\n",
    "    }\n",
    ")\n",
    "print(df)"
   ]
  },
  {
   "cell_type": "code",
   "execution_count": 16,
   "id": "0bf873ff",
   "metadata": {},
   "outputs": [],
   "source": [
    "weighted_average = (df['dept. size']*df['mean sat.']).sum()/(df['dept. size']).sum()"
   ]
  },
  {
   "cell_type": "code",
   "execution_count": 18,
   "id": "fdc16a5a",
   "metadata": {},
   "outputs": [
    {
     "name": "stdout",
     "output_type": "stream",
     "text": [
      "8.061538461538461\n"
     ]
    }
   ],
   "source": [
    "print(weighted_average)"
   ]
  },
  {
   "cell_type": "code",
   "execution_count": 21,
   "id": "40fdd217",
   "metadata": {},
   "outputs": [
    {
     "data": {
      "text/plain": [
       "0    14.20\n",
       "1     6.55\n",
       "2    11.05\n",
       "3    16.40\n",
       "dtype: float64"
      ]
     },
     "execution_count": 21,
     "metadata": {},
     "output_type": "execute_result"
    }
   ],
   "source": [
    "df.mean(axis = 1)"
   ]
  },
  {
   "cell_type": "code",
   "execution_count": 28,
   "id": "39fe813c",
   "metadata": {},
   "outputs": [],
   "source": [
    "data = pd.DataFrame({\n",
    "    'dataset': [66,67,67,68,68,68,68,69,69,69,69,70,70,71,71,72,73,75]\n",
    "})"
   ]
  },
  {
   "cell_type": "code",
   "execution_count": 29,
   "id": "5b4d1c37",
   "metadata": {},
   "outputs": [],
   "source": [
    "data_quartiles = data.dataset.quantile([0.25,0.50,0.75])"
   ]
  },
  {
   "cell_type": "code",
   "execution_count": 32,
   "id": "cd320957",
   "metadata": {},
   "outputs": [],
   "source": [
    "q3,q1 = np.percentile(data,[75,25])"
   ]
  },
  {
   "cell_type": "code",
   "execution_count": 33,
   "id": "37be2dc7",
   "metadata": {},
   "outputs": [],
   "source": [
    "iqr = q3-q1"
   ]
  },
  {
   "cell_type": "code",
   "execution_count": 34,
   "id": "5330b575",
   "metadata": {},
   "outputs": [
    {
     "name": "stdout",
     "output_type": "stream",
     "text": [
      "2.75\n"
     ]
    }
   ],
   "source": [
    "print(iqr)"
   ]
  },
  {
   "cell_type": "code",
   "execution_count": null,
   "id": "7d4a0432",
   "metadata": {},
   "outputs": [],
   "source": []
  },
  {
   "cell_type": "code",
   "execution_count": null,
   "id": "23e54125",
   "metadata": {},
   "outputs": [],
   "source": []
  }
 ],
 "metadata": {
  "kernelspec": {
   "display_name": "Python 3 (ipykernel)",
   "language": "python",
   "name": "python3"
  },
  "language_info": {
   "codemirror_mode": {
    "name": "ipython",
    "version": 3
   },
   "file_extension": ".py",
   "mimetype": "text/x-python",
   "name": "python",
   "nbconvert_exporter": "python",
   "pygments_lexer": "ipython3",
   "version": "3.9.12"
  }
 },
 "nbformat": 4,
 "nbformat_minor": 5
}
