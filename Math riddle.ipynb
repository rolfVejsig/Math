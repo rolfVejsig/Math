{
 "cells": [
  {
   "cell_type": "code",
   "execution_count": 39,
   "id": "c085cee6",
   "metadata": {},
   "outputs": [
    {
     "name": "stdout",
     "output_type": "stream",
     "text": [
      "Counter({1: 60, 10: 39, 50: 1})\n"
     ]
    }
   ],
   "source": [
    "\n",
    "# 100 soldiers enter the theater, officers has to pay 50 cent, \n",
    "# non-commissioned officers has pay 10 cent and privates has to pay 1 cent\n",
    "# how many from each rank enters the theater?\n",
    "\n",
    "\n",
    "from itertools import combinations_with_replacement\n",
    "from collections import Counter\n",
    "\n",
    "def soldiers (list):\n",
    "    combi = combinations_with_replacement(list,100)\n",
    "    for i in combi:\n",
    "        if sum(i) == 500:\n",
    "            return i\n",
    "        \n",
    "tup = soldiers([1,10,50])\n",
    "\n",
    "c = Counter(tup)\n",
    "print(c)"
   ]
  },
  {
   "cell_type": "code",
   "execution_count": null,
   "id": "a92dd706",
   "metadata": {},
   "outputs": [],
   "source": []
  }
 ],
 "metadata": {
  "kernelspec": {
   "display_name": "Python 3 (ipykernel)",
   "language": "python",
   "name": "python3"
  },
  "language_info": {
   "codemirror_mode": {
    "name": "ipython",
    "version": 3
   },
   "file_extension": ".py",
   "mimetype": "text/x-python",
   "name": "python",
   "nbconvert_exporter": "python",
   "pygments_lexer": "ipython3",
   "version": "3.9.12"
  }
 },
 "nbformat": 4,
 "nbformat_minor": 5
}
